{
 "cells": [
  {
   "cell_type": "code",
   "execution_count": null,
   "id": "7c048511-62e8-4106-b00e-8e185f21c94d",
   "metadata": {},
   "outputs": [],
   "source": [
    "import os\n",
    "import pandas as pd\n",
    "import geopandas as gpd\n",
    "import json\n",
    "from shapely.geometry import shape"
   ]
  },
  {
   "cell_type": "code",
   "execution_count": 2,
   "id": "5d3e493d-d933-41cd-98ed-70ab414cbca7",
   "metadata": {},
   "outputs": [],
   "source": [
    "cwd = os.getcwd()\n",
    "file_path = os.path.join(cwd, \"data\", \"CaribbeanIslands-PreMerge.tsv\")\n",
    "df = pd.read_table(file_path, sep='\\t', header=None)\n",
    "print(df.head())"
   ]
  },
  {
   "cell_type": "code",
   "execution_count": null,
   "id": "313fb6a0-c895-4c8b-a61a-41a457d215b9",
   "metadata": {},
   "outputs": [],
   "source": [
    "#Add column names to data\n",
    "df.columns = ['country', 'geometry']"
   ]
  },
  {
   "cell_type": "code",
   "execution_count": 8,
   "id": "9e7f44f1-e1aa-4993-8ca9-36a1aacd7dd1",
   "metadata": {},
   "outputs": [],
   "source": [
    "# Parse JSON strings to dictionaries\n",
    "df['geometry'] = df['geometry'].apply(json.loads)"
   ]
  },
  {
   "cell_type": "code",
   "execution_count": 9,
   "id": "69748199-f5d9-4290-8bf3-79c7ed34979f",
   "metadata": {},
   "outputs": [],
   "source": [
    "# Extract geometry\n",
    "df['geometry'] = df['geometry'].apply(lambda x: shape(x['geometry']))"
   ]
  },
  {
   "cell_type": "code",
   "execution_count": 10,
   "id": "097d197b-00b2-44e7-9cce-eed275a45ca7",
   "metadata": {},
   "outputs": [],
   "source": [
    "# Convert to GeoDataFrame\n",
    "gdf = gpd.GeoDataFrame(df, geometry='geometry')\n",
    "gdf = gdf.set_crs(4326, allow_override=True)"
   ]
  },
  {
   "cell_type": "code",
   "execution_count": null,
   "metadata": {},
   "outputs": [],
   "source": [
    "if not os.path.exists(data_path):\n",
    "    os.makedirs(data_path)\n",
    "\n",
    "# Define the output file path\n",
    "output_file = os.path.join(data_path, \"CaribbeanIslands-PreMerge.geojson\")\n",
    "\n",
    "# Save the GeoDataFrame as a GeoJSON file\n",
    "gdf.to_file(output_file, driver=\"GeoJSON\")\n",
    "\n",
    "print(f\"GeoDataFrame successfully saved to {output_file}\")"
   ]
  },
  {
   "cell_type": "code",
   "execution_count": null,
   "id": "3f214047-379f-4945-b6c6-508d3d328af8",
   "metadata": {},
   "outputs": [],
   "source": [
    "gdf.explore()"
   ]
  }
 ],
 "metadata": {
  "kernelspec": {
   "display_name": "Python 3 (ipykernel)",
   "language": "python",
   "name": "python3"
  },
  "language_info": {
   "codemirror_mode": {
    "name": "ipython",
    "version": 3
   },
   "file_extension": ".py",
   "mimetype": "text/x-python",
   "name": "python",
   "nbconvert_exporter": "python",
   "pygments_lexer": "ipython3",
   "version": "3.9.12"
  }
 },
 "nbformat": 4,
 "nbformat_minor": 5
}
