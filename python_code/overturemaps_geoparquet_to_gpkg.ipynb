{
 "cells": [
  {
   "cell_type": "code",
   "execution_count": 3,
   "id": "e0c33204-6ba3-451d-9f18-c06cf39f9409",
   "metadata": {},
   "outputs": [],
   "source": [
    "import geopandas as gpd\n",
    "\n",
    "# Read the GeoParquet file\n",
    "gdf = gpd.read_parquet(\"/data/boston_places.geoparquet\")"
   ]
  },
  {
   "cell_type": "code",
   "execution_count": null,
   "id": "94aedf74-46bb-41c8-b231-39e38cb7019d",
   "metadata": {},
   "outputs": [],
   "source": [
    "gdf.head(20)"
   ]
  },
  {
   "cell_type": "code",
   "execution_count": 5,
   "id": "7bbf2d0c-77f9-4ab8-b436-51906ab6a53a",
   "metadata": {},
   "outputs": [],
   "source": [
    "gdf['categories_v2'] = gdf['categories'].apply(lambda x: x.get('main') if isinstance(x, dict) else None)"
   ]
  },
  {
   "cell_type": "code",
   "execution_count": null,
   "id": "2ccd3f66",
   "metadata": {},
   "outputs": [],
   "source": [
    "gdf.head(20)"
   ]
  },
  {
   "cell_type": "code",
   "execution_count": 13,
   "id": "5183b7fa-b6f6-4718-a2a2-aa726cd76616",
   "metadata": {},
   "outputs": [],
   "source": [
    "gdf.drop(['update_time','confidence', 'websites', 'socials', 'emails', 'phones'], axis=1, inplace=True)"
   ]
  },
  {
   "cell_type": "code",
   "execution_count": null,
   "id": "545afcf3-bb7a-4c54-a6de-db360aad10e0",
   "metadata": {},
   "outputs": [],
   "source": [
    "print(gdf.dtypes)"
   ]
  },
  {
   "cell_type": "code",
   "execution_count": 15,
   "id": "23bdb836-56f4-43e3-bd0e-ecb4d2b29542",
   "metadata": {},
   "outputs": [],
   "source": [
    "# Export as GeoPackage\n",
    "gdf.to_file(\"/data/boston_places.gpkg\", driver=\"GPKG\")"
   ]
  }
 ],
 "metadata": {
  "kernelspec": {
   "display_name": "Python 3 (ipykernel)",
   "language": "python",
   "name": "python3"
  },
  "language_info": {
   "codemirror_mode": {
    "name": "ipython",
    "version": 3
   },
   "file_extension": ".py",
   "mimetype": "text/x-python",
   "name": "python",
   "nbconvert_exporter": "python",
   "pygments_lexer": "ipython3",
   "version": "3.9.12"
  }
 },
 "nbformat": 4,
 "nbformat_minor": 5
}
